{
 "cells": [
  {
   "cell_type": "markdown",
   "id": "7e575201",
   "metadata": {},
   "source": [
    "# Applied Statistics Problems\n",
    "\n",
    "This notebook covers the problems set as part of the assessment for the Applied Statistics module at ATU."
   ]
  },
  {
   "cell_type": "markdown",
   "id": "0a55868c",
   "metadata": {},
   "source": [
    "## Problem 1: Extending the Lady Tasting Tea\n",
    "\n",
    "> Let's extend the Lady Tasting Tea experiment as follows. The original experiment has 8 cups: 4 tea-first and 4 milk-first. Suppose we prepare 12 cups: 8 tea-first and 4 milk-first. A participant claims they can tell which was poured first.\n",
    "\n",
    "> Simulate this experiment using `numpy` by randomly shuffling the cups many times and calculating the probability of the participant correctly identifying all cups by chance. Compare your result with the original 8-cup experiment.\n",
    "\n",
    "> In your notebook, explain your simulation process clearly, report and interpret the estimated probability, and discuss whether, based on this probability, you would consider extending or relaxing the p-value threshold compared to the original design.\n",
    "\n",
    "In this section I will be extending the Lady Tasting Tea experiment to determine whether I would consider extending or relaxing the p-value threshold compared to the original design.\n",
    "\n",
    "I will do this by creating a new experiment using 12 cups: 8 that had the tea added first and 4 with the milk added first. Then I will simulate an experiment using `numpy` by randomly shuffling the cups many times and calculating the probability of the participant identifying all cups by chance and comparing my result with the original 8-cup experiment."
   ]
  },
  {
   "cell_type": "markdown",
   "id": "754d48ae",
   "metadata": {},
   "source": [
    "First we begin by importing the required modules to complete the task. First is the math module, which is part of the standard library. We will be using the combinations method from this module"
   ]
  },
  {
   "cell_type": "code",
   "execution_count": null,
   "id": "e8079cb0",
   "metadata": {},
   "outputs": [],
   "source": [
    "# Importing the math module to use mathematical functions.\n",
    "# https://docs.python.org/3/library/math.html\n",
    "import math"
   ]
  },
  {
   "cell_type": "markdown",
   "id": "f3502c11",
   "metadata": {},
   "source": [
    "Then we declare how many cups of tea are in the experiment and how many of those cups of tea were made by adding the tea first or the milk first."
   ]
  },
  {
   "cell_type": "code",
   "execution_count": 6,
   "id": "dc38b97f",
   "metadata": {},
   "outputs": [],
   "source": [
    "no_of_cups = 12\n",
    "no_of_cups_tea_first = 8\n",
    "np_of_cups_milk_first = 4"
   ]
  },
  {
   "cell_type": "markdown",
   "id": "bdeb0322",
   "metadata": {},
   "source": [
    "Then using the imported math module, we can calculate how many permutations there are of grouping the 12 cups of tea into 4 and 8."
   ]
  },
  {
   "cell_type": "code",
   "execution_count": 7,
   "id": "b023126f",
   "metadata": {},
   "outputs": [
    {
     "data": {
      "text/plain": [
       "495"
      ]
     },
     "execution_count": 7,
     "metadata": {},
     "output_type": "execute_result"
    }
   ],
   "source": [
    "# Calculating the number of ways to choose 4 items from 12 items without regard to the order of selection.\n",
    "# https://docs.python.org/3/library/math.html#math.comb\n",
    "math.comb(no_of_cups, np_of_cups_milk_first)"
   ]
  },
  {
   "cell_type": "markdown",
   "id": "1b931b12",
   "metadata": {},
   "source": [
    "From this we can see that there are 495 ways we can group 4 of 12."
   ]
  },
  {
   "cell_type": "code",
   "execution_count": 8,
   "id": "3739be0b",
   "metadata": {},
   "outputs": [
    {
     "data": {
      "text/plain": [
       "495"
      ]
     },
     "execution_count": 8,
     "metadata": {},
     "output_type": "execute_result"
    }
   ],
   "source": [
    "# Calculating the number of ways to choose 8 items from 12 items without regard to the order of selection.\n",
    "math.comb(no_of_cups, no_of_cups_tea_first)"
   ]
  },
  {
   "cell_type": "markdown",
   "id": "816dad53",
   "metadata": {},
   "source": [
    "As we can see, choosing 8 from 12 has the same number of permutation as choosing 4. This means that there are exactly 495 ways of grouping the 12 cups of tea into two groups of 8 and 4."
   ]
  },
  {
   "cell_type": "markdown",
   "id": "02be003f",
   "metadata": {},
   "source": [
    "## Problem 2: Normal Distribution\n",
    "\n",
    "> Generate 100,000 samples of size 10 from the standard normal distribution. For each sample, compute the standard deviation with `ddof=1` (sample SD) and with `ddof=0` (population SD). Plot histograms of both sets of values on the same axes with transparency. Describe the differences you see. Explain how you expect these differences to change if the sample size is increased."
   ]
  },
  {
   "cell_type": "markdown",
   "id": "58b8737b",
   "metadata": {},
   "source": [
    "## Problem 3: t-Tests\n",
    "\n",
    "> A type II error occurs when a test fails to reject the null hypothesis even though it is false. For each mean difference d = 0, 0.1, 0.2, … , 1.0, repeat the following simulation 1,000 times:\n",
    "\n",
    "> 1. Draw two samples of size 100, one from the standard normal distribution and one from the normal distribution with mean d and standard deviation 1.\n",
    "> 2. Run an independent samples t-test on the two samples, rejecting the null hypothesis if the p-value is less than 0.05.\n",
    "> 3. Record the proportion of times the null hypothesis is not rejected.\n",
    "\n",
    "> Plot this proportion against d, and explain how the type II error rate changes as the difference in means increases."
   ]
  },
  {
   "cell_type": "markdown",
   "id": "60c8f4f7",
   "metadata": {},
   "source": [
    "## Problem 4: ANOVA\n",
    "\n",
    ">Generate three independent samples, each of size 30, from normal distributions with means 0, 0.5, and 1, each with standard deviation 1.\n",
    "\n",
    "> 1. Perform a one-way ANOVA to test whether all three means are equal.\n",
    "> 2. Perform three independent two-sample t-tests: samples 1 vs 2, 1 vs 3, and 2 vs 3.\n",
    "> 3. Compare the conclusions.\n",
    "\n",
    ">Write a short note on why ANOVA is preferred over running several t-tests."
   ]
  },
  {
   "cell_type": "markdown",
   "id": "99453d01",
   "metadata": {},
   "source": [
    "## End"
   ]
  }
 ],
 "metadata": {
  "kernelspec": {
   "display_name": "base",
   "language": "python",
   "name": "python3"
  },
  "language_info": {
   "codemirror_mode": {
    "name": "ipython",
    "version": 3
   },
   "file_extension": ".py",
   "mimetype": "text/x-python",
   "name": "python",
   "nbconvert_exporter": "python",
   "pygments_lexer": "ipython3",
   "version": "3.12.7"
  }
 },
 "nbformat": 4,
 "nbformat_minor": 5
}
