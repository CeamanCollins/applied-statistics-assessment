{
 "cells": [
  {
   "cell_type": "markdown",
   "id": "7e575201",
   "metadata": {},
   "source": [
    "# Applied Statistics Problems\n",
    "\n",
    "This notebook covers the problems set as part of the assessment for the Applied Statistics module at ATU."
   ]
  },
  {
   "cell_type": "markdown",
   "id": "0a55868c",
   "metadata": {},
   "source": [
    "## Problem 1"
   ]
  }
 ],
 "metadata": {
  "language_info": {
   "name": "python"
  }
 },
 "nbformat": 4,
 "nbformat_minor": 5
}
