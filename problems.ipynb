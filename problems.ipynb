{
 "cells": [
  {
   "cell_type": "markdown",
   "id": "7e575201",
   "metadata": {},
   "source": [
    "# Applied Statistics Problems\n",
    "\n",
    "This notebook covers the problems set as part of the assessment for the Applied Statistics module at ATU."
   ]
  },
  {
   "cell_type": "markdown",
   "id": "0a55868c",
   "metadata": {},
   "source": [
    "## Problem 1: Extending the Lady Tasting Tea\n",
    "\n",
    "> Let's extend the Lady Tasting Tea experiment as follows. The original experiment has 8 cups: 4 tea-first and 4 milk-first. Suppose we prepare 12 cups: 8 tea-first and 4 milk-first. A participant claims they can tell which was poured first.\n",
    "\n",
    "> Simulate this experiment using `numpy` by randomly shuffling the cups many times and calculating the probability of the participant correctly identifying all cups by chance. Compare your result with the original 8-cup experiment.\n",
    "\n",
    "> In your notebook, explain your simulation process clearly, report and interpret the estimated probability, and discuss whether, based on this probability, you would consider extending or relaxing the p-value threshold compared to the original design.\n",
    "\n",
    "In this section I will be extending the Lady Tasting Tea experiment to determine whether I would consider extending or relaxing the p-value threshold compared to the original design.\n",
    "\n",
    "I will do this by creating a new experiment using 12 cups: 8 that had the tea added first and 4 with the milk added first. Then I will simulate an experiment using `numpy` by randomly shuffling the cups many times and calculating the probability of the participant identifying all cups by chance and comparing my result with the original 8-cup experiment."
   ]
  },
  {
   "cell_type": "markdown",
   "id": "02be003f",
   "metadata": {},
   "source": [
    "## Problem 2: Normal Distribution\n",
    "\n",
    "> Generate 100,000 samples of size 10 from the standard normal distribution. For each sample, compute the standard deviation with `ddof=1` (sample SD) and with `ddof=0` (population SD). Plot histograms of both sets of values on the same axes with transparency. Describe the differences you see. Explain how you expect these differences to change if the sample size is increased."
   ]
  },
  {
   "cell_type": "markdown",
   "id": "58b8737b",
   "metadata": {},
   "source": [
    "## Problem 3: t-Tests\n",
    "\n",
    "> A type II error occurs when a test fails to reject the null hypothesis even though it is false. For each mean difference d = 0, 0.1, 0.2, … , 1.0, repeat the following simulation 1,000 times:\n",
    "\n",
    "> 1. Draw two samples of size 100, one from the standard normal distribution and one from the normal distribution with mean d and standard deviation 1.\n",
    "> 2. Run an independent samples t-test on the two samples, rejecting the null hypothesis if the p-value is less than 0.05.\n",
    "> 3. Record the proportion of times the null hypothesis is not rejected.\n",
    "\n",
    "> Plot this proportion against d, and explain how the type II error rate changes as the difference in means increases."
   ]
  },
  {
   "cell_type": "markdown",
   "id": "60c8f4f7",
   "metadata": {},
   "source": [
    "## Problem 4: ANOVA\n",
    "\n",
    ">Generate three independent samples, each of size 30, from normal distributions with means 0, 0.5, and 1, each with standard deviation 1.\n",
    "\n",
    "> 1. Perform a one-way ANOVA to test whether all three means are equal.\n",
    "> 2. Perform three independent two-sample t-tests: samples 1 vs 2, 1 vs 3, and 2 vs 3.\n",
    "> 3. Compare the conclusions.\n",
    "\n",
    ">Write a short note on why ANOVA is preferred over running several t-tests."
   ]
  },
  {
   "cell_type": "markdown",
   "id": "99453d01",
   "metadata": {},
   "source": [
    "## End"
   ]
  }
 ],
 "metadata": {
  "language_info": {
   "name": "python"
  }
 },
 "nbformat": 4,
 "nbformat_minor": 5
}
